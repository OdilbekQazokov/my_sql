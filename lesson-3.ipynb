{
 "cells": [
  {
   "cell_type": "code",
   "execution_count": null,
   "id": "399ce3a1",
   "metadata": {},
   "outputs": [],
   "source": [
    "# strings\n",
    "# 'string' using single quotes\n",
    "# \"string\" using double quotes\n",
    "# '''multi line \n",
    "# string''' multi line string 3 x single quote/double quote\n",
    "# using 'str()' function"
   ]
  },
  {
   "cell_type": "code",
   "execution_count": null,
   "id": "14d1ea08",
   "metadata": {},
   "outputs": [
    {
     "data": {
      "text/plain": [
       "'oh'"
      ]
     },
     "execution_count": 3,
     "metadata": {},
     "output_type": "execute_result"
    }
   ],
   "source": [
    "#       0123\n",
    "name = 'John'\n",
    "\n",
    "name[0]\n",
    "\n",
    "name[1:3]\n",
    "\n",
    "txt = 'I am John. I am from London'\n",
    "\n",
    "\n",
    "# [start:end[:step]]\n",
    "# end is not included"
   ]
  },
  {
   "cell_type": "code",
   "execution_count": 13,
   "id": "dae90e01",
   "metadata": {},
   "outputs": [
    {
     "data": {
      "text/plain": [
       "'London'"
      ]
     },
     "execution_count": 13,
     "metadata": {},
     "output_type": "execute_result"
    }
   ],
   "source": [
    "txt = 'I am John. I am from London'\n",
    "\n",
    "txt.split(' ')\n",
    "\n",
    "txt[-6:]\n",
    "\n",
    "# [start:end]\n",
    "\n"
   ]
  },
  {
   "cell_type": "code",
   "execution_count": 92,
   "id": "5de8b645",
   "metadata": {},
   "outputs": [
    {
     "data": {
      "text/plain": [
       "\"Sam,Hello,London,O'zbeksiton ko'chasi 10-uy,15\""
      ]
     },
     "execution_count": 92,
     "metadata": {},
     "output_type": "execute_result"
    }
   ],
   "source": [
    "first_name = 'Sam'\n",
    "last_name = 'Hello'\n",
    "city = 'London'\n",
    "address = 'O\\'zbeksiton ko\\'chasi 10-uy'\n",
    "\n",
    "# first_name+ ' ' + last_name + ' ' + city + ' ' + address\n",
    "\n",
    "','.join([first_name, last_name, city, address, '15'])\n",
    "\n",
    "\n",
    "# ''.join([10,134,132,41,324])\n",
    "# first_name * 2\n"
   ]
  },
  {
   "cell_type": "code",
   "execution_count": 34,
   "id": "2a8d37ec",
   "metadata": {},
   "outputs": [
    {
     "data": {
      "text/plain": [
       "[1, 'Sam', 3.1, (1+2j)]"
      ]
     },
     "execution_count": 34,
     "metadata": {},
     "output_type": "execute_result"
    }
   ],
   "source": [
    "# lists\n",
    "\n",
    "my_list = [1, 'Sam', 3.10, 1 + 2j]\n",
    "\n",
    "nums_list = [2, 3, 5, 7, 11, 13, 17, 19] # prime numbers\n",
    "\n",
    "list_names = ['Toshkent', 'Andijon', 'Buxoro', 'Samarqand'] # regions of Uzbekistan\n",
    "\n",
    "\n",
    "# type(my_list)\n",
    "\n",
    "# type(nums_list)\n",
    "\n",
    "# type(list_names)\n",
    "\n",
    "my_list"
   ]
  },
  {
   "cell_type": "code",
   "execution_count": 37,
   "id": "a10f69f7",
   "metadata": {},
   "outputs": [
    {
     "data": {
      "text/plain": [
       "list"
      ]
     },
     "execution_count": 37,
     "metadata": {},
     "output_type": "execute_result"
    }
   ],
   "source": [
    "# my_list = [1, 'Sam', 3.10, 1 + 2j, [1, 2, 3, 4, 5]] # nested list\n",
    "\n",
    "\n",
    "new_list = list()\n",
    "\n",
    "type(new_list)"
   ]
  },
  {
   "cell_type": "code",
   "execution_count": 40,
   "id": "7123c0b2",
   "metadata": {},
   "outputs": [
    {
     "data": {
      "text/plain": [
       "'h'"
      ]
     },
     "execution_count": 40,
     "metadata": {},
     "output_type": "execute_result"
    }
   ],
   "source": [
    "# iterable data types are those which you can access every element of the object.\n",
    "# iterable data typeda objectning har bir elementini chaqirib olish imkoniyati mavjud bo'ladi.\n",
    "# strings are iterable \n",
    "# lists are iterable\n",
    "name = 'John'\n",
    "\n",
    "name[2]\n",
    "\n",
    "# letters = list('')"
   ]
  },
  {
   "cell_type": "code",
   "execution_count": null,
   "id": "c455cdff",
   "metadata": {},
   "outputs": [
    {
     "name": "stdout",
     "output_type": "stream",
     "text": [
      "['h', 'e', 'l', 'l', 'o', ' ', 'w', 'o', 'r', 'l', 'd']\n"
     ]
    },
    {
     "data": {
      "text/plain": [
       "15"
      ]
     },
     "execution_count": 45,
     "metadata": {},
     "output_type": "execute_result"
    }
   ],
   "source": [
    "letters = list('abcdefghjklmnop')\n",
    "\n",
    "letters\n",
    "\n",
    "new_letters = list('hello world')\n",
    "\n",
    "print(new_letters)\n",
    "\n",
    "# len(new_letters)\n",
    "len(letters)\n"
   ]
  },
  {
   "cell_type": "code",
   "execution_count": 51,
   "id": "d22ca052",
   "metadata": {},
   "outputs": [
    {
     "data": {
      "text/plain": [
       "0"
      ]
     },
     "execution_count": 51,
     "metadata": {},
     "output_type": "execute_result"
    }
   ],
   "source": [
    "my_list = [1, 2, 4, 5, 6, 1, 4, 8, 10, 6, 1]\n",
    "\n",
    "my_list.count(10)\n",
    "\n",
    "my_list.count(1)\n",
    "\n",
    "my_list.count(8)\n",
    "\n",
    "my_list.count(15)\n",
    "\n",
    "## double-underscore (__) methods are called 'magic methods' or 'dunder methods'"
   ]
  },
  {
   "cell_type": "code",
   "execution_count": 60,
   "id": "2a3ba0d9",
   "metadata": {},
   "outputs": [
    {
     "name": "stdout",
     "output_type": "stream",
     "text": [
      "2\n"
     ]
    }
   ],
   "source": [
    "name = 'Anna'\n",
    "print(name.count('n'))\n",
    "# python is case sensitive(katta va kichik harflar bir biridan farq qiladi)\n"
   ]
  },
  {
   "cell_type": "code",
   "execution_count": 62,
   "id": "153a57bb",
   "metadata": {},
   "outputs": [
    {
     "data": {
      "text/plain": [
       "['e', 'd', 'c', 'b', 'a']"
      ]
     },
     "execution_count": 62,
     "metadata": {},
     "output_type": "execute_result"
    }
   ],
   "source": [
    "my_list = list('abcde')\n",
    "# in-place action\n",
    "my_list.reverse()\n",
    "\n",
    "my_list"
   ]
  },
  {
   "cell_type": "code",
   "execution_count": 84,
   "id": "94145404",
   "metadata": {},
   "outputs": [
    {
     "data": {
      "text/plain": [
       "['a', 'b', 'c', 'd', 'salom', 10, 5.55, [1, 2, 3, 4, 5]]"
      ]
     },
     "execution_count": 84,
     "metadata": {},
     "output_type": "execute_result"
    }
   ],
   "source": [
    "# append() = adds the given element to the end of the list.\n",
    "# append() = berilgan elementni list ning oxiriga qo'shib qo'yadi\n",
    "my_list1 = ['a', 'b', 'c', 'd']\n",
    "\n",
    "my_list1.append('salom')\n",
    "my_list1.append(10)\n",
    "my_list1.append(5.55)\n",
    "my_list1.append([1, 2, 3, 4, 5])\n",
    "\n",
    "my_list1\n"
   ]
  },
  {
   "cell_type": "code",
   "execution_count": 88,
   "id": "92f9d45c",
   "metadata": {},
   "outputs": [
    {
     "data": {
      "text/plain": [
       "[1, 'ikki', 3, 4, 5, 'olti', 7, 8, 9, 10]"
      ]
     },
     "execution_count": 88,
     "metadata": {},
     "output_type": "execute_result"
    }
   ],
   "source": [
    "# insert() = adds the given element to the given index of the list.\n",
    "# insert() = berilgan elementni berilgan index ga qo'shib beradi.\n",
    "# insert(index, value)\n",
    "#           0  1  2  3  4\n",
    "new_list = [1, 3, 4 ,5, 7, 8, 9]\n",
    "\n",
    "new_list.insert(1, 'ikki')\n",
    "\n",
    "#  0     1    2  3  4  5\n",
    "# [1, 'ikki', 3, 4, 5, 7, 8, 9]\n",
    "\n",
    "\n",
    "new_list.insert(5, 'olti')\n",
    "new_list.append(10)\n",
    "\n",
    "new_list"
   ]
  },
  {
   "cell_type": "code",
   "execution_count": 101,
   "id": "3e29e462",
   "metadata": {},
   "outputs": [
    {
     "data": {
      "text/plain": [
       "['hello', 1, 2, 3, 4, 6, 7, 8, 10, 12, 15, 'h', 'e', 'l', 'l', 'o']"
      ]
     },
     "execution_count": 101,
     "metadata": {},
     "output_type": "execute_result"
    }
   ],
   "source": [
    "nums1 = [1, 2, 3, 4, 6]\n",
    "nums2 = [7, 8, 10, 12, 15]\n",
    "\n",
    "nums1.extend(nums2)\n",
    "\n",
    "nums1\n",
    "\n",
    "nums1.extend('hello')\n",
    "\n",
    "nums1.insert(0, 'hello')\n",
    "\n",
    "nums1"
   ]
  },
  {
   "cell_type": "code",
   "execution_count": 102,
   "id": "42342ef6",
   "metadata": {},
   "outputs": [],
   "source": [
    "# iterable = objectning har bir elementini chaqirib olish imkoniyati mavjud bo'ladi\n",
    "\n",
    "name = 'John'\n",
    "\n",
    "name[0]\n",
    "\n",
    "world_population = 823_645_234_523\n",
    "\n",
    "# world_population[4]\n"
   ]
  },
  {
   "cell_type": "code",
   "execution_count": null,
   "id": "5fe3e6d9",
   "metadata": {},
   "outputs": [
    {
     "data": {
      "text/plain": [
       "[1, 2, 3, 4, 6, 7, 8, 10, 12, 15]"
      ]
     },
     "execution_count": 105,
     "metadata": {},
     "output_type": "execute_result"
    }
   ],
   "source": [
    "nums1 = [1, 2, 3, 4, 6]\n",
    "nums2 = [7, 8, 10, 12, 15]\n",
    "\n",
    "combined_nums = nums1 + nums2\n",
    "\n",
    "nums1\n",
    "\n",
    "combined_nums"
   ]
  },
  {
   "cell_type": "code",
   "execution_count": 123,
   "id": "b905ddcf",
   "metadata": {},
   "outputs": [
    {
     "data": {
      "text/plain": [
       "[8, 12, 1]"
      ]
     },
     "execution_count": 123,
     "metadata": {},
     "output_type": "execute_result"
    }
   ],
   "source": [
    "# accessing elements of a list\n",
    "# listning elementlarini chaqirib olish\n",
    "# we can do indexing and slicing with lists\n",
    "\n",
    "nums1 = [1, 2, 3, 4, 6]\n",
    "\n",
    "nums2 = [7, 8, 10, 12, 15]\n",
    "\n",
    "combined_nums = nums2 + nums1\n",
    "\n",
    "combined_nums[-1]\n",
    "combined_nums[-3:]\n",
    "\n",
    "# combined_nums[10]\n",
    "\n",
    "\n",
    "\n",
    "# [0:4] 4 is not included\n",
    "#  0  1  2   3    4\n",
    "# [7, 8, 10, 12, 15, 1, 2, 3, 4, 6]\n",
    "combined_nums[:5]\n",
    "\n",
    "\n",
    "combined_nums[1:6:2]\n",
    "\n"
   ]
  },
  {
   "cell_type": "code",
   "execution_count": null,
   "id": "88d84c43",
   "metadata": {},
   "outputs": [
    {
     "ename": "IndexError",
     "evalue": "pop index out of range",
     "output_type": "error",
     "traceback": [
      "\u001b[31m---------------------------------------------------------------------------\u001b[39m",
      "\u001b[31mIndexError\u001b[39m                                Traceback (most recent call last)",
      "\u001b[36mCell\u001b[39m\u001b[36m \u001b[39m\u001b[32mIn[130]\u001b[39m\u001b[32m, line 7\u001b[39m\n\u001b[32m      3\u001b[39m combined_nums.pop()\n\u001b[32m      5\u001b[39m combined_nums.pop(\u001b[32m0\u001b[39m)\n\u001b[32m----> \u001b[39m\u001b[32m7\u001b[39m \u001b[43mcombined_nums\u001b[49m\u001b[43m.\u001b[49m\u001b[43mpop\u001b[49m\u001b[43m(\u001b[49m\u001b[32;43m20\u001b[39;49m\u001b[43m)\u001b[49m\n",
      "\u001b[31mIndexError\u001b[39m: pop index out of range"
     ]
    }
   ],
   "source": [
    "# pop() = removes last element of the given list\n",
    "# pop(n) = removes the element which has the index of n\n",
    "combined_nums = [7, 8, 10, 12, 15, 1, 2, 3, 4, 6]\n",
    "\n",
    "combined_nums.pop()\n",
    "\n",
    "combined_nums.pop(0)\n",
    "\n",
    "combined_nums.pop(20)\n",
    "\n"
   ]
  },
  {
   "cell_type": "code",
   "execution_count": null,
   "id": "cd8f08a2",
   "metadata": {},
   "outputs": [],
   "source": [
    "# remove(a) = deletes the first accurence of the given element\n",
    "\n",
    "combined_nums = [7, 8, 10, 12, 15, 1, 2, 3, 4, 6, 10, 'a','b', 'c', 'a', 'd']\n",
    "\n",
    "combined_nums.remove('a')\n",
    "\n",
    "# combined_nums.remove('hello') ## list.remove(x): x not in list\n",
    "\n",
    "\n"
   ]
  },
  {
   "cell_type": "code",
   "execution_count": null,
   "id": "f8b846eb",
   "metadata": {},
   "outputs": [
    {
     "data": {
      "text/plain": [
       "[7, 8, 12, 15, 1, 2, 3, 4, 6, 10, 'a', 'b', 'c', 'a', 'd']"
      ]
     },
     "execution_count": 136,
     "metadata": {},
     "output_type": "execute_result"
    }
   ],
   "source": [
    "combined_nums = [7, 8, 10, 12, 15, 1, 2, 3, 4, 6, 10, 'a','b', 'c', 'a', 'd']\n",
    "\n",
    "\n",
    "del combined_nums[2]\n",
    "\n",
    "combined_nums\n"
   ]
  },
  {
   "cell_type": "code",
   "execution_count": 148,
   "id": "96c4222e",
   "metadata": {},
   "outputs": [
    {
     "data": {
      "text/plain": [
       "['d', 'e', 'f', 'f', 'g', 'i', 'r', 'u', 'w']"
      ]
     },
     "execution_count": 148,
     "metadata": {},
     "output_type": "execute_result"
    }
   ],
   "source": [
    "# sorting lists\n",
    "# sort() method or sorted() function\n",
    "my_nums = [7, 8, 10, 12, 15, 1, 2, 3, 4, 6, 10]\n",
    "\n",
    "my_nums.sort()\n",
    "\n",
    "# my_nums.reverse()\n",
    "\n",
    "my_nums\n",
    "\n",
    "letters = list('fweiurgdf')\n",
    "\n",
    "letters.sort()\n",
    "\n",
    "letters"
   ]
  },
  {
   "cell_type": "code",
   "execution_count": 152,
   "id": "7548fb97",
   "metadata": {},
   "outputs": [
    {
     "data": {
      "text/plain": [
       "[15, 12, 10, 10, 8, 7, 6, 4, 3, 2, 1]"
      ]
     },
     "execution_count": 152,
     "metadata": {},
     "output_type": "execute_result"
    }
   ],
   "source": [
    "my_nums = [7, 8, 10, 12, 15, 1, 2, 3, 4, 6, 10]\n",
    "\n",
    "sorted(my_nums)\n",
    "\n",
    "sorted(my_nums, reverse=True)\n",
    "\n"
   ]
  },
  {
   "cell_type": "code",
   "execution_count": null,
   "id": "a66e7af1",
   "metadata": {},
   "outputs": [],
   "source": []
  }
 ],
 "metadata": {
  "kernelspec": {
   "display_name": "Python 3",
   "language": "python",
   "name": "python3"
  },
  "language_info": {
   "codemirror_mode": {
    "name": "ipython",
    "version": 3
   },
   "file_extension": ".py",
   "mimetype": "text/x-python",
   "name": "python",
   "nbconvert_exporter": "python",
   "pygments_lexer": "ipython3",
   "version": "3.11.9"
  }
 },
 "nbformat": 4,
 "nbformat_minor": 5
}
