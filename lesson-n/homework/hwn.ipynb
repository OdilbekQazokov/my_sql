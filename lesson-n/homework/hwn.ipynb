# accessing elements of a list
# listning elementlarini chaqirib olish
# we can do indexing and slicing with lists

nums1 = [1, 2, 3, 4, 6]

nums2 = [7, 8, 10, 12, 15]

combined_nums = nums2 + nums1

combined_nums[-1]
combined_nums[-3:]

# combined_nums[10]



# [0:4] 4 is not included
#  0  1  2   3    4
# [7, 8, 10, 12, 15, 1, 2, 3, 4, 6]
combined_nums[:5]


combined_nums[1:6:2]

